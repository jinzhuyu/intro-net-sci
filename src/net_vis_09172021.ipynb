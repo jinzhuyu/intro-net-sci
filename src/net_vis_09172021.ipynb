{
 "cells": [
  {
   "cell_type": "markdown",
   "metadata": {},
   "source": [
    "### Network Visualization\n",
    "Course: Introduction to Network Science, Fall 2021\n",
    "\n",
    "Author: Jin-Zhu Yu and Chenheng Jiang\n",
    "\n",
    "Instructor: Prof. Jianxi Gao\n",
    "\n",
    "Department of Computer Science\n",
    "\n",
    "Rensselaer Polytechnic Institute (RPI)\n",
    "\n",
    "September 17, 2021"
   ]
  },
  {
   "cell_type": "markdown",
   "metadata": {},
   "source": [
    "**Summary:** We will learn how to use ```graph_tool``` in conjuction with ```networkx``` to visualize networks."
   ]
  },
  {
   "cell_type": "markdown",
   "metadata": {},
   "source": [
    "## Install graph_tool and networkX\n",
    "\n",
    "\n",
    "**Source:** https://graph-tool.skewed.de/\n",
    "\n",
    "**Note:** It is not available for Windows. You may want to install wsl (Windows Subsystem for Linux) following the instructions [here](https://docs.microsoft.com/en-us/windows/wsl/install-win10) and GWSL (\"an XServer that lets you easily run graphical Linux apps on Windows 10\") available [here](https://www.microsoft.com/en-us/p/gwsl/9nl6kd1h33v3#activetab=pivot:overviewtab).\n",
    "\n",
    "\n",
    "```Conda installation (GNU/Linux|MacOS)```\n",
    "\n",
    "```conda create --name gt -c conda-forge graph-tool```\n",
    "\n",
    "```conda activate gt```\n",
    "\n",
    "Open Jupyter notebook within the ```gt``` virtual environment:\n",
    "\n",
    "```jupyter notebook --notebook-dir=[your dir to src]```\n",
    "\n",
    "\n",
    "**Note:** You may need to install pandas and networkX as well to the ```gt``` virtual environment.\n",
    "\n",
    "```conda install -c anaconda pandas```\n",
    "\n",
    "```conda install -c anaconda networkx```\n",
    " \n",
    "\n",
    "**Reference:** Peixoto, T. P. (2014). The graph-tool python library. figshare.\n",
    "\n",
    "After installation, go back to the ```gt``` virtual environement and run the following within jupyter-notebook as a test\n",
    "\n",
    "```import graph_tool.all as gt```\n",
    "\n",
    "```import networkx as nx```"
   ]
  },
  {
   "cell_type": "code",
   "execution_count": null,
   "metadata": {},
   "outputs": [],
   "source": [
    "import os\n",
    "import sys\n",
    "import math\n",
    "import pickle\n",
    "import random\n",
    "\n",
    "import numpy as np\n",
    "import pandas as pd\n",
    "import matplotlib\n",
    "import matplotlib.pyplot as plt\n",
    "\n",
    "from IPython.display import Image\n",
    "\n",
    "import warnings\n",
    "warnings.filterwarnings('ignore')\n",
    "%matplotlib inline"
   ]
  },
  {
   "cell_type": "markdown",
   "metadata": {},
   "source": [
    "#### Set up the default figure format"
   ]
  },
  {
   "cell_type": "code",
   "execution_count": null,
   "metadata": {
    "scrolled": true
   },
   "outputs": [],
   "source": [
    "plt.rcParams['font.family'] = 'serif'\n",
    "plt.rcParams['font.serif'] = 'Times'\n",
    "plt.rcParams['font.weight'] = 'bold'\n",
    "plt.rcParams['font.size'] = 20\n",
    "\n",
    "plt.rcParams['figure.facecolor'] = 'white'\n",
    "plt.rcParams['savefig.facecolor'] = 'white'\n",
    "\n",
    "plt.rcParams['text.usetex'] = True\n",
    "plt.rcParams['text.latex.preamble'] = [r'\\usepackage{amsmath}']\n",
    "plt.rcParams[\"mathtext.fontset\"] = 'cm'\n",
    "plt.rcParams['axes.labelsize'] = 20\n",
    "# plt.rcParams['axes.labelweight'] = 'bold'\n",
    "    \n",
    "plt.rcParams['lines.linewidth'] = 2\n",
    "plt.rcParams['lines.markeredgewidth'] = 2\n",
    "\n",
    "plt.rcParams['xtick.top'] = False\n",
    "plt.rcParams['xtick.direction'] = 'in'\n",
    "plt.rcParams['xtick.minor.visible'] = True\n",
    "plt.rcParams['xtick.major.size'] = 8\n",
    "plt.rcParams['xtick.major.width'] = 1.1\n",
    "plt.rcParams['xtick.labelsize'] = 20\n",
    "plt.rcParams['ytick.right'] = False\n",
    "plt.rcParams['ytick.direction'] = 'in'\n",
    "plt.rcParams['ytick.labelsize'] = 20\n",
    "plt.rcParams['ytick.minor.visible'] = True\n",
    "plt.rcParams['ytick.major.size'] = 8\n",
    "plt.rcParams['ytick.major.width'] = 1.1\n",
    "\n",
    "plt.rcParams['savefig.dpi'] = 200  # typically >= 500. Reduced here to open and view the graph quicker.\n"
   ]
  },
  {
   "cell_type": "markdown",
   "metadata": {},
   "source": [
    "#### Import packages for network visualization"
   ]
  },
  {
   "cell_type": "code",
   "execution_count": null,
   "metadata": {},
   "outputs": [],
   "source": [
    "# import graph_tool.all as gt\n",
    "from graph_tool import *\n",
    "import graph_tool.all as gt\n",
    "import networkx as nx"
   ]
  },
  {
   "cell_type": "markdown",
   "metadata": {},
   "source": [
    "#### Change directory"
   ]
  },
  {
   "cell_type": "code",
   "execution_count": null,
   "metadata": {},
   "outputs": [],
   "source": [
    "path = '../data/'\n",
    "os.chdir(path)"
   ]
  },
  {
   "cell_type": "code",
   "execution_count": null,
   "metadata": {},
   "outputs": [],
   "source": [
    "# create one if it does not exist\n",
    "# if not os.path.exists(path):\n",
    "#     os.makedirs(path)\n",
    "\n",
    "# os.getcwd()"
   ]
  },
  {
   "cell_type": "markdown",
   "metadata": {},
   "source": [
    "### A taste of NetworkX"
   ]
  },
  {
   "cell_type": "code",
   "execution_count": null,
   "metadata": {},
   "outputs": [],
   "source": [
    "# create a graph\n",
    "G = nx.Graph()\n",
    "# use the following for directed graph\n",
    "# DG = nx.DiGraph()\n",
    "\n",
    "# add nodes\n",
    "G.add_node(1) \n",
    "G.add_nodes_from([2, 3])\n",
    "G.add_nodes_from(list(range(3,9)))\n",
    "\n",
    "G1 = nx.complete_graph(15)\n",
    "G.add_nodes_from(G1)\n",
    "\n",
    "# add edges\n",
    "G.add_edges_from([(1, 3), (2, 4), (6,7), (1,6), (6,4)])\n",
    "\n",
    "# draw\n",
    "# specify color, size\n",
    "color_map = ['darkred' if node>10 else 'navy' for node in G]\n",
    "node_size = [400 if node >10 else 300 for node in G]\n",
    "# node_shape= ['d' if node >10 else 's' for node in G]\n",
    "\n",
    "plt.figure(figsize=(5,4))\n",
    "nx.draw(G, node_size = node_size, node_color=color_map) "
   ]
  },
  {
   "cell_type": "code",
   "execution_count": null,
   "metadata": {},
   "outputs": [],
   "source": [
    "plt.figure(figsize=(4,3))\n",
    "nx.draw_random(G)"
   ]
  },
  {
   "cell_type": "code",
   "execution_count": null,
   "metadata": {},
   "outputs": [],
   "source": [
    "plt.figure(figsize=(4,3)) \n",
    "nx.draw_circular(G)"
   ]
  },
  {
   "cell_type": "code",
   "execution_count": null,
   "metadata": {},
   "outputs": [],
   "source": [
    "# return list of nodes\n",
    "node_list = list(G.nodes)\n",
    "\n",
    "# return number of nodes\n",
    "n_node = G.number_of_nodes()"
   ]
  },
  {
   "cell_type": "code",
   "execution_count": null,
   "metadata": {},
   "outputs": [],
   "source": [
    "#return connected components\n",
    "Gcs = nx.connected_components(G)\n",
    "\n",
    "#return the largest connected component\n",
    "Gc = G.subgraph(max(Gcs, key=len))"
   ]
  },
  {
   "cell_type": "code",
   "execution_count": null,
   "metadata": {},
   "outputs": [],
   "source": [
    "# plot\n",
    "plt.figure(figsize=(3,3)) \n",
    "nx.draw_spring(Gc)\n",
    "plt.show()"
   ]
  },
  {
   "cell_type": "markdown",
   "metadata": {},
   "source": [
    "### Random Networks"
   ]
  },
  {
   "cell_type": "markdown",
   "metadata": {},
   "source": [
    "### Exercise 1\n",
    "1) Draw an undirected random network with 30 node and a desired probability of edges of 0.1 and 0.2 using ```nx.erdos_renyi_graph(n, p, seed=None, directed=False)```. Use seed = 2021.\n",
    "\n",
    "2) Use the spring layout.\n",
    "\n",
    "3) Set the color of first 20 nodes to green the rest blue and the size of the first 20 nodes to 200 the rest 500."
   ]
  },
  {
   "cell_type": "code",
   "execution_count": null,
   "metadata": {},
   "outputs": [],
   "source": []
  },
  {
   "cell_type": "code",
   "execution_count": null,
   "metadata": {},
   "outputs": [],
   "source": []
  },
  {
   "cell_type": "code",
   "execution_count": null,
   "metadata": {},
   "outputs": [],
   "source": []
  },
  {
   "cell_type": "code",
   "execution_count": null,
   "metadata": {},
   "outputs": [],
   "source": []
  },
  {
   "cell_type": "markdown",
   "metadata": {},
   "source": [
    "3) Find the largest connect component and the number of nodes and edges of it\n",
    "\n",
    "4) Return the actual probability of forming edges in the original graph and its largest connected component: actual # of edges divided by the max possible number of edges"
   ]
  },
  {
   "cell_type": "code",
   "execution_count": null,
   "metadata": {},
   "outputs": [],
   "source": []
  },
  {
   "cell_type": "code",
   "execution_count": null,
   "metadata": {},
   "outputs": [],
   "source": []
  },
  {
   "cell_type": "code",
   "execution_count": null,
   "metadata": {},
   "outputs": [],
   "source": []
  },
  {
   "cell_type": "code",
   "execution_count": null,
   "metadata": {},
   "outputs": [],
   "source": []
  },
  {
   "cell_type": "markdown",
   "metadata": {},
   "source": [
    "### Bipartite networks"
   ]
  },
  {
   "cell_type": "code",
   "execution_count": null,
   "metadata": {},
   "outputs": [],
   "source": [
    "from networkx.algorithms import bipartite"
   ]
  },
  {
   "cell_type": "code",
   "execution_count": null,
   "metadata": {},
   "outputs": [],
   "source": [
    "# build up\n",
    "B = nx.Graph()\n",
    "# Add nodes with the node attribute \"bipartite\"\n",
    "B.add_nodes_from([1, 2, 3, 4], bipartite=0)\n",
    "B.add_nodes_from([\"a\", \"b\", \"c\"], bipartite=1)\n",
    "# Add edges only between nodes of opposite node sets\n",
    "B.add_edges_from([(1, \"a\"), (1, \"b\"), (2, \"b\"), (2, \"c\"), (3, \"c\"), (4, \"a\")])\n",
    "\n",
    "nx.draw(B)"
   ]
  },
  {
   "cell_type": "code",
   "execution_count": null,
   "metadata": {},
   "outputs": [],
   "source": [
    "left, right = nx.bipartite.sets(B)\n",
    "\n",
    "#nx.draw_networkx(B, pos = nx.drawing.layout.bipartite_layout(B, left), width = 2)"
   ]
  },
  {
   "cell_type": "code",
   "execution_count": null,
   "metadata": {
    "scrolled": true
   },
   "outputs": [],
   "source": [
    "Image('Gb.png')"
   ]
  },
  {
   "cell_type": "code",
   "execution_count": null,
   "metadata": {},
   "outputs": [],
   "source": [
    "# can specify position as well\n",
    "X, Y = nx.bipartite.sets(B)\n",
    "pos = dict()\n",
    "pos.update( (n, (1, i)) for i, n in enumerate(X) ) # put nodes from X at x=1\n",
    "pos.update( (n, (2, i)) for i, n in enumerate(Y) ) # put nodes from Y at x=2\n",
    "nx.draw(B, pos=pos) # use with_labels=True if latex is available"
   ]
  },
  {
   "cell_type": "code",
   "execution_count": null,
   "metadata": {},
   "outputs": [],
   "source": [
    "Image('Gb_label.png')"
   ]
  },
  {
   "cell_type": "code",
   "execution_count": null,
   "metadata": {},
   "outputs": [],
   "source": [
    "# generate a bipartite graph\n",
    "Gb = nx.complete_bipartite_graph(10, 8)"
   ]
  },
  {
   "cell_type": "markdown",
   "metadata": {},
   "source": []
  },
  {
   "cell_type": "markdown",
   "metadata": {},
   "source": [
    "### Excercise 2\n",
    "\n",
    "1) Generate a 15 by 10 bipartite network using ```nx.complete_bipartite_graph(n1, n2)```\n",
    "\n",
    "2) Find the maximum matching (a dictionary)\n",
    "\n",
    "3) Plot the maximum matching as a biparte network"
   ]
  },
  {
   "cell_type": "code",
   "execution_count": null,
   "metadata": {},
   "outputs": [],
   "source": []
  },
  {
   "cell_type": "code",
   "execution_count": null,
   "metadata": {},
   "outputs": [],
   "source": []
  },
  {
   "cell_type": "code",
   "execution_count": null,
   "metadata": {},
   "outputs": [],
   "source": []
  },
  {
   "cell_type": "code",
   "execution_count": null,
   "metadata": {},
   "outputs": [],
   "source": []
  },
  {
   "cell_type": "markdown",
   "metadata": {},
   "source": [
    "### A taste of graph_tool "
   ]
  },
  {
   "cell_type": "markdown",
   "metadata": {},
   "source": [
    "graph_tool is much faster: core data structures and algorithms are implemented in C++"
   ]
  },
  {
   "cell_type": "code",
   "execution_count": null,
   "metadata": {},
   "outputs": [],
   "source": [
    "import time\n",
    "\n",
    "n_node = 1000        # try 2000 or 500 and see networkx can handle it on your laptop"
   ]
  },
  {
   "cell_type": "code",
   "execution_count": null,
   "metadata": {},
   "outputs": [],
   "source": [
    "# Using networkx\n",
    "start = time.time()\n",
    "G = nx.complete_graph(n_node) \n",
    "end = time.time()\n",
    "print(end - start)"
   ]
  },
  {
   "cell_type": "code",
   "execution_count": null,
   "metadata": {},
   "outputs": [],
   "source": [
    "# Using graph_tool\n",
    "from graph_tool import generation\n",
    "\n",
    "start = time.time()\n",
    "g = gt.complete_graph(n_node)\n",
    "end = time.time()\n",
    "print(end - start)"
   ]
  },
  {
   "cell_type": "code",
   "execution_count": null,
   "metadata": {},
   "outputs": [],
   "source": [
    "# plot this complete graph using graph_tool\n",
    "g = gt.complete_graph(50)\n",
    "pos = gt.sfdp_layout(g, cooling_step=0.95, epsilon=1e-2)\n",
    "gt.graph_draw(g, pos=pos, output_size=[100,100],output=\"complete.png\")\n",
    "Image('complete.png')"
   ]
  },
  {
   "cell_type": "markdown",
   "metadata": {},
   "source": [
    "### Comparison on other aspects"
   ]
  },
  {
   "cell_type": "code",
   "execution_count": null,
   "metadata": {},
   "outputs": [],
   "source": [
    "# Image('gt_vs_networkx.png')"
   ]
  },
  {
   "cell_type": "markdown",
   "metadata": {},
   "source": [
    "### Random graph generated according to degree distribution and edge probability"
   ]
  },
  {
   "cell_type": "code",
   "execution_count": null,
   "metadata": {},
   "outputs": [],
   "source": [
    "# uses rejection sampling to sample from the distribution p(k) ~ 1/k, up to a max value\n",
    "def sample_k(max):\n",
    "    accept = False\n",
    "    while not accept:\n",
    "        k = np.random.randint(1,max)\n",
    "        accept = np.random.random() < 1.0/k\n",
    "    return k\n",
    "\n",
    "# the edge probability indirectly determined by the degree correlation: p(i,k) ~ 1/(1+abs(i-k))\n",
    "g = gt.random_graph(800, lambda: sample_k(max=40), model=\"probabilistic-configuration\",\n",
    "                    edge_probs=lambda i, k: 1.0 / (1 + abs(i - k)), directed=False,\n",
    "                    n_iter=100)  # total number of edges randomly chosen for a swap attempt "
   ]
  },
  {
   "cell_type": "code",
   "execution_count": null,
   "metadata": {},
   "outputs": [],
   "source": [
    "fname = '../output/net_dg.png'\n",
    "gt.graph_draw(g, vertex_fill_color='navy', edge_color=\"black\", output_size=[300,300], output=fname)\n",
    "Image(fname)"
   ]
  },
  {
   "cell_type": "markdown",
   "metadata": {},
   "source": [
    "## Excercise 3 Generate random graph according to given degree distribution and edge probability\n",
    "\n",
    "1) 500 node random network with a degree distribuiton: Poison(mean=3), max_degree = 20, min_degree = 1\n",
    "\n",
    "pdf of Poison: p(k)= mean**k*math.exp(-mean)/math.factorial(k)\n",
    "\n",
    "2) Edge probability determined by the difference in the degrees of two nodes, i,j: 1/sqrt(2*pi)*exp(abs(i-j-2)^/2)\n",
    "\n",
    "3) Other params are the same as the proceeding example"
   ]
  },
  {
   "cell_type": "code",
   "execution_count": null,
   "metadata": {},
   "outputs": [],
   "source": []
  },
  {
   "cell_type": "code",
   "execution_count": null,
   "metadata": {},
   "outputs": [],
   "source": []
  },
  {
   "cell_type": "code",
   "execution_count": null,
   "metadata": {},
   "outputs": [],
   "source": []
  },
  {
   "cell_type": "code",
   "execution_count": null,
   "metadata": {},
   "outputs": [],
   "source": []
  },
  {
   "cell_type": "markdown",
   "metadata": {},
   "source": [
    "### Stochastic Block Model"
   ]
  },
  {
   "cell_type": "code",
   "execution_count": null,
   "metadata": {
    "scrolled": true
   },
   "outputs": [],
   "source": [
    "Image('sbm.png', width=300, height=300) \n",
    "# source:https://appliednetsci.springeropen.com/articles/10.1007/s41109-019-0232-2/figures/1"
   ]
  },
  {
   "cell_type": "markdown",
   "metadata": {},
   "source": [
    "### Using networkx"
   ]
  },
  {
   "cell_type": "code",
   "execution_count": null,
   "metadata": {},
   "outputs": [],
   "source": [
    "sizes = [75, 50, 100]\n",
    "probs = [[0.25, 0.01, 0.02], [0.01, 0.15, 0.01], [0.02, 0.01, 0.20]] # within and between block edge probabilities\n",
    "G_sbm = nx.stochastic_block_model(sizes, probs, seed=2021)\n",
    "nx.draw(G_sbm)"
   ]
  },
  {
   "cell_type": "markdown",
   "metadata": {},
   "source": [
    "### Using graph_tool"
   ]
  },
  {
   "cell_type": "code",
   "execution_count": null,
   "metadata": {},
   "outputs": [],
   "source": [
    "# A stochastic block model with 5 blocks\n",
    "# the probability of forming edges\n",
    "def edge_prob(a, b):\n",
    "    prob_in = 0.99\n",
    "    if a == b:\n",
    "        return prob_in\n",
    "    else:\n",
    "        return (1-prob_in)"
   ]
  },
  {
   "cell_type": "code",
   "execution_count": null,
   "metadata": {},
   "outputs": [],
   "source": [
    "from random import randint\n",
    "n_blk = 5\n",
    "fname = \"../output/blockmodel.png\"\n",
    "g, bm = gt.random_graph(500, lambda: np.random.poisson(n_blk), directed=False,\n",
    "                        model=\"blockmodel\",\n",
    "                        block_membership=lambda: randint(1,n_blk),\n",
    "                        edge_probs=edge_prob)\n",
    "gt.graph_draw(g, vertex_fill_color=bm, edge_color=\"black\", output_size=[300,300], output=fname)"
   ]
  },
  {
   "cell_type": "code",
   "execution_count": null,
   "metadata": {},
   "outputs": [],
   "source": [
    "Image(fname)"
   ]
  },
  {
   "cell_type": "markdown",
   "metadata": {},
   "source": [
    "### Nuclear reaction networks. Directed and unweighted network.\n",
    "\n",
    "```Jiang C, Szymanski BK, Lian J, Havlin S, Gao J. Nuclear reaction network unveils novel reaction patterns based on stellar energies. New Journal of Physics. 2021 Aug 19;23(8):083035.```"
   ]
  },
  {
   "cell_type": "markdown",
   "metadata": {},
   "source": [
    "#### Import graph and layout"
   ]
  },
  {
   "cell_type": "code",
   "execution_count": null,
   "metadata": {},
   "outputs": [],
   "source": [
    "graph_fname = 'nuc.xml.gz'\n",
    "layout_fname = 'force4.csv'"
   ]
  },
  {
   "cell_type": "markdown",
   "metadata": {},
   "source": [
    "The data look like:"
   ]
  },
  {
   "cell_type": "markdown",
   "metadata": {},
   "source": [
    "<?xml version=\"1.0\" encoding=\"UTF-8\"?>\n",
    "<graphml xmlns=\"http://graphml.graphdrawing.org/xmlns\"\n",
    "         xmlns:xsi=\"http://www.w3.org/2001/XMLSchema-instance\"\n",
    "         xsi:schemaLocation=\"http://graphml.graphdrawing.org/xmlns http://graphml.graphdrawing.org/xmlns/1.0/graphml.xsd\">\n",
    "\n",
    "  <!-- property keys -->\n",
    "  <key id=\"key0\" for=\"node\" attr.name=\"label\" attr.type=\"string\" />\n",
    "  <key id=\"key1\" for=\"edge\" attr.name=\"mode\" attr.type=\"vector_float\" />\n",
    "  <key id=\"key2\" for=\"node\" attr.name=\"pos\" attr.type=\"vector_float\" />\n",
    "  <key id=\"key3\" for=\"node\" attr.name=\"proton\" attr.type=\"float\" />\n",
    "\n",
    "  <graph id=\"G\" edgedefault=\"directed\" parse.nodeids=\"canonical\" parse.edgeids=\"canonical\" parse.order=\"nodesfirst\">\n",
    "\n",
    "   <!-- graph properties -->\n",
    "\n",
    "   <!-- vertices -->\n",
    "    <node id=\"n0\">\n",
    "      <data key=\"key0\">he3</data>\n",
    "      <data key=\"key2\">0x1p+0, 0x1p+1</data>\n",
    "      <data key=\"key3\">0x1p+1</data>\n",
    "    </node>\n",
    "    <node id=\"n1\">\n",
    "      <data key=\"key0\">he6</data>\n",
    "      <data key=\"key2\">0x1p+2, 0x1p+1</data>\n",
    "      <data key=\"key3\">0x1p+1</data>\n",
    "    </node>\n",
    "        ...\n",
    " \n",
    "   <!-- edges -->\n",
    "    <edge id=\"e0\" source=\"n0\" target=\"n6995\">\n",
    "      <data key=\"key1\">0x1p+0, 0x0p+0</data>\n",
    "    </edge>\n",
    "    <edge id=\"e1\" source=\"n0\" target=\"n9\">\n",
    "      <data key=\"key1\">0x1p+1, 0x1p+1</data>\n",
    "    </edge>\n",
    "      \n",
    "      ...\n",
    "      \n",
    "    </edge>\n",
    "\n",
    "  </graph>\n",
    "</graphml>"
   ]
  },
  {
   "cell_type": "code",
   "execution_count": null,
   "metadata": {},
   "outputs": [],
   "source": [
    "import pandas as pd\n",
    "\n",
    "layout_df = pd.read_csv(layout_fname)\n",
    "layout_df.head(5)"
   ]
  },
  {
   "cell_type": "code",
   "execution_count": null,
   "metadata": {},
   "outputs": [],
   "source": [
    "def show_forcedirected_nucnet(graph_fname, layout_fname='draft/force4.csv', output_fname='nrnet.pdf'):\n",
    "    \"\"\"\n",
    "    :param str graph_fname: input graph-tool graph\n",
    "    :param str layout_fname: position file\n",
    "    \"\"\"\n",
    "    coordinates = pd.read_csv(layout_fname)  # usually not available. Determined by trial and error. \n",
    "\n",
    "    graph = gt.load_graph(graph_fname)\n",
    "\n",
    "    n = graph.num_vertices()\n",
    "    degs = graph.get_out_degrees(range(n))\n",
    "    \n",
    "    print('===== The # of vertices is: {} ====='.format(n))\n",
    "    print('===== The # of edges is: {} ====='.format(graph.num_edges()))\n",
    "\n",
    "    norm = plt.Normalize()\n",
    "    cmap = plt.get_cmap('Set2')(norm(range(19)))\n",
    "\n",
    "    vc = graph.new_vp('vector<float>')\n",
    "    szs = graph.new_vp('float')\n",
    "    grp = graph.new_vp('int')\n",
    "\n",
    "    if 'proton' not in graph.vp:\n",
    "        protons = graph.new_vp('int')\n",
    "        pos = graph.vp['pos']\n",
    "        for v in range(n):\n",
    "            protons[v] = pos[v][1]\n",
    "    else:\n",
    "        protons = graph.vp['proton']\n",
    "\n",
    "    pos = graph.new_vp('vector<double>')\n",
    "    labels = graph.new_vp('string')\n",
    "    gt.map_property_values(graph.vertex_properties['label'], labels, str.capitalize)\n",
    "    for v in range(n):\n",
    "        k = degs[v]\n",
    "        grp[v] = protons[v]\n",
    "        vc[v] = cmap[k]\n",
    "        szs[v] = 20\n",
    "        selected = coordinates[coordinates.nuclide == labels[v]]\n",
    "        if selected.shape[0] > 0:\n",
    "            pos[v] = [selected.x.values[0], selected.y.values[0]]\n",
    "\n",
    "    categories = {}\n",
    "    modes = graph.edge_properties['mode']\n",
    "    for e in graph.edges():\n",
    "        mode = modes[e]\n",
    "        if mode not in categories:\n",
    "            categories[mode] = len(categories)\n",
    "\n",
    "    ec = graph.new_ep('vector<double>')\n",
    "    alpha = 0.5\n",
    "    ncomb = len(categories)\n",
    "    \n",
    "    cmap = plt.get_cmap('viridis')(norm(range(ncomb)), alpha=alpha)\n",
    "\n",
    "    for e in graph.edges():\n",
    "        mode = modes[e]\n",
    "        ind = categories[mode]\n",
    "        ec[e] = cmap[ind]\n",
    "    text_rot = graph.new_vp('double')\n",
    "    for v in graph.vertices():\n",
    "        if pos[v][0] > 0:\n",
    "            text_rot[v] = math.atan(pos[v][1] / pos[v][0])\n",
    "        else:\n",
    "            text_rot[v] = math.pi + math.atan(pos[v][1] / pos[v][0])\n",
    "    \n",
    "    # draw and save\n",
    "    print('\\n===== Start to plot the network =====')\n",
    "    gt.graph_draw(graph, pos=pos, vertex_fill_color=vc, vertex_color=vc,\n",
    "                  vertex_size=16,\n",
    "                  vertex_text=labels,\n",
    "                  vertex_text_rotation=text_rot,\n",
    "                  vertex_text_position=1,\n",
    "                  vertex_font_size=10,\n",
    "                  edge_color=ec,\n",
    "                  # bg_color=[0, 0, 0, 1],\n",
    "                  output_size=[4000, 4000],  # output_size=[8000, 8000],\n",
    "                  output=output_fname)\n",
    "    \n",
    "    print('\\n===== Complete plotting the network =====')"
   ]
  },
  {
   "cell_type": "code",
   "execution_count": null,
   "metadata": {},
   "outputs": [],
   "source": [
    "output_fname = '../output/nrnet.pdf'  # Can save as a .png file for faster view\n",
    "show_forcedirected_nucnet(graph_fname, layout_fname, output_fname)"
   ]
  },
  {
   "cell_type": "markdown",
   "metadata": {},
   "source": [
    "**Note:** Better to open the .png file outside jupyter-notebook. Try open it here use the following code and you'll see why. **The following code does NOT work if the figure is saved as PDF file.**"
   ]
  },
  {
   "cell_type": "code",
   "execution_count": null,
   "metadata": {},
   "outputs": [],
   "source": [
    "Image(output_fname)"
   ]
  },
  {
   "cell_type": "code",
   "execution_count": null,
   "metadata": {},
   "outputs": [],
   "source": []
  },
  {
   "cell_type": "markdown",
   "metadata": {},
   "source": [
    "### Subgraph with edges (reactions) belonging to the specific reaction mode"
   ]
  },
  {
   "cell_type": "code",
   "execution_count": null,
   "metadata": {},
   "outputs": [],
   "source": [
    "def mode_network(G,mode=(1,0)):\n",
    "    '''\n",
    "    Subgraph with edges (reactions) belonging to the specific mode\n",
    "    \n",
    "    Parameters:\n",
    "    -----------\n",
    "    G:          original network with all reaction modes included\n",
    "    mode:       specific reaction mode to construct the subgraph\n",
    "    \n",
    "    Returns:\n",
    "    ----------\n",
    "    subgraph with all edges of the specific reaction mode\n",
    "    '''\n",
    "    # find largest connect component\n",
    "    gcc = G.subgraph(max(nx.connected_components(G), key=len))\n",
    "\n",
    "    sG=nx.Graph()\n",
    "    for k,mode in nx.get_edge_attributes(gcc,'mode').items():\n",
    "        if mode != (-1,0):\n",
    "            continue\n",
    "        sG.add_edge(k[0],k[1])\n",
    "    return sG"
   ]
  },
  {
   "cell_type": "code",
   "execution_count": null,
   "metadata": {},
   "outputs": [],
   "source": [
    "nxG=nx.read_gpickle('G_logrcut_brk.net')\n",
    "sG=mode_network(nxG,mode=(-1,0))\n",
    "\n",
    "nod_dict={u:i for i,u in enumerate(list(nxG.nodes()))}\n",
    "\n",
    "gtG=gt.Graph()\n",
    "modes=gtG.new_ep('string')\n",
    "for k,mode in nx.get_edge_attributes(nxG,'mode').items():\n",
    "    u,v=nod_dict[k[0]],nod_dict[k[1]]\n",
    "    e=gtG.add_edge(u,v)\n",
    "    modes[e]=str(mode)"
   ]
  },
  {
   "cell_type": "markdown",
   "metadata": {},
   "source": []
  },
  {
   "cell_type": "code",
   "execution_count": null,
   "metadata": {},
   "outputs": [],
   "source": [
    "nxG=nx.read_gpickle('G_logrcut_after_brk.net')\n",
    "sG=mode_network(nxG,mode=(-1,0))\n",
    "\n",
    "nod_dict={u:i for i,u in enumerate(list(sG.nodes()))}\n",
    "\n",
    "gtG=gt.Graph()\n",
    "for k in sG.edges():\n",
    "    u,v=nod_dict[k[0]],nod_dict[k[1]]\n",
    "    e=gtG.add_edge(u,v)"
   ]
  },
  {
   "cell_type": "code",
   "execution_count": null,
   "metadata": {},
   "outputs": [],
   "source": [
    "pos_sfdp= gt.sfdp_layout(gtG,p=5)"
   ]
  },
  {
   "cell_type": "code",
   "execution_count": null,
   "metadata": {},
   "outputs": [],
   "source": [
    "output_fname = '../output/G_logrcut_brk_sfdp.png'\n",
    "gt.graph_draw(gtG,pos=pos_sfdp,vertex_size=20,output_size=[6000,6000],output=output_fname)"
   ]
  },
  {
   "cell_type": "code",
   "execution_count": null,
   "metadata": {},
   "outputs": [],
   "source": [
    "# Open the plot\n",
    "Image(output_fname, width=600, height=600)"
   ]
  },
  {
   "cell_type": "code",
   "execution_count": null,
   "metadata": {},
   "outputs": [],
   "source": [
    "output_fname = '../output/GraphLogrcutAfterBrkMode-1-0.png'\n",
    "gt.graph_draw(gtG,pos=pos_sfdp,vertex_size=5,vertex_color='#ffffff',vertex_fill_color='#ffffff',\n",
    "              edge_color='#756bb1',edge_pen_width=1.5,bg_color=[0,0,0,40],\n",
    "              output_size=[1000,1000],output=output_fname)"
   ]
  },
  {
   "cell_type": "code",
   "execution_count": null,
   "metadata": {},
   "outputs": [],
   "source": [
    "# Open the plot\n",
    "Image(output_fname, width=600, height=600)"
   ]
  },
  {
   "cell_type": "code",
   "execution_count": null,
   "metadata": {},
   "outputs": [],
   "source": []
  },
  {
   "cell_type": "code",
   "execution_count": null,
   "metadata": {},
   "outputs": [],
   "source": [
    "def draw_graph(T9,log_rate_cutoff,reuse_layout=False,Repulsive=2.0):\n",
    "    nxG=nx.read_gpickle('T{0}_LogR{1}.net'.format(T9,log_rate_cutoff))\n",
    "    sG=mode_network(nxG,mode=(-1,0))\n",
    "\n",
    "    nod_dict={u:i for i,u in enumerate(list(sG.nodes()))}\n",
    "\n",
    "    gtG=gt.Graph()\n",
    "    for k in sG.edges():\n",
    "        u,v=nod_dict[k[0]],nod_dict[k[1]]\n",
    "        e=gtG.add_edge(u,v)\n",
    "    \n",
    "    fnm='Layout_T{0}_LogR{1}.pkl'.format(T9,log_rate_cutoff)\n",
    "    if reuse_layout and os.path.exists(fnm):\n",
    "        with open(fnm,'rb') as file:\n",
    "            ret=pickle.load(file)\n",
    "        pos_sfdp = gtG.new_vp('vector<double>')\n",
    "        for i in range(len(nod_dict)):\n",
    "            pos_sfdp[i] = ret[i]\n",
    "    else:\n",
    "        pos_sfdp= gt.sfdp_layout(gtG,p=Repulsive)\n",
    "        with open(fnm,'wb') as file:\n",
    "            pickle.dump(pos_sfdp,file)\n",
    "\n",
    "    output_fname = '../output/NN_T{0}_LogR{1}.png'.format(T9,log_rate_cutoff)\n",
    "    gt.graph_draw(gtG,pos=pos_sfdp,vertex_size=4,vertex_color='#ffffff',vertex_fill_color='#ffffff',\n",
    "                  edge_color='#756bb1',edge_pen_width=1,bg_color=[0,0,0,40],\n",
    "                  output_size=[800,400],output=output_fname)"
   ]
  },
  {
   "cell_type": "code",
   "execution_count": null,
   "metadata": {},
   "outputs": [],
   "source": []
  },
  {
   "cell_type": "code",
   "execution_count": null,
   "metadata": {},
   "outputs": [],
   "source": [
    "draw_graph(1.0,-100,reuse_layout=True,Repulsive=3.6)\n",
    "Image('../output/NN_T1.0_LogR-100.png')"
   ]
  },
  {
   "cell_type": "code",
   "execution_count": null,
   "metadata": {},
   "outputs": [],
   "source": []
  },
  {
   "cell_type": "code",
   "execution_count": null,
   "metadata": {},
   "outputs": [],
   "source": [
    "def visualize_network(net,Repulsive=2):\n",
    "    '''\n",
    "    Visualize network\n",
    "    \n",
    "    Parameters:\n",
    "    ----------\n",
    "    net:       name of the complete network\n",
    "    Repulsive: repel force between nodes\n",
    "    '''\n",
    "    if net in ['net6','net8']:\n",
    "        dyn = 'ecology'\n",
    "    elif net in ['mec','tya']:\n",
    "        dyn = 'regulatory'\n",
    "    elif net in ['email','arenas-email']:\n",
    "        net = 'arenas-email'\n",
    "        dyn = 'epidemic'\n",
    "    elif net in ['facebook','ego-facebook']:\n",
    "        net = 'ego-facebook'\n",
    "        dyn = 'epidemic'\n",
    "\n",
    "    nxG=nx.read_edgelist('{}.edges.csv'.format(net),nodetype=int,data=False,delimiter=',')\n",
    "    nod_dict={u:i for i,u in enumerate(list(nxG.nodes()))}\n",
    "\n",
    "    gtG=gt.Graph(directed=False)\n",
    "    for k in nxG.edges():\n",
    "        u,v=nod_dict[k[0]],nod_dict[k[1]]\n",
    "        e=gtG.add_edge(u,v)\n",
    "\n",
    "    pos_sfdp= gt.sfdp_layout(gtG,p=Repulsive)\n",
    "    fnm='../output/{}.png'.format(net.capitalize())\n",
    "    gt.graph_draw(gtG,pos=pos_sfdp,vertex_size=5,vertex_color='#ffffff',vertex_fill_color='#ffffff',\n",
    "                  edge_color='#756bb1',edge_pen_width=0.5,bg_color=[0,0,0,40],\n",
    "                  output_size=[1000,1000],output=fnm)\n"
   ]
  },
  {
   "cell_type": "code",
   "execution_count": null,
   "metadata": {},
   "outputs": [],
   "source": [
    "visualize_network(net='net6',Repulsive=1.5)\n",
    "Image('../output/net6.png')"
   ]
  },
  {
   "cell_type": "code",
   "execution_count": null,
   "metadata": {},
   "outputs": [],
   "source": [
    "visualize_network(net='facebook',Repulsive=2.1)\n",
    "Image('../output/Ego-facebook.png')"
   ]
  },
  {
   "cell_type": "code",
   "execution_count": null,
   "metadata": {},
   "outputs": [],
   "source": [
    "# data=[]\n",
    "# for i,u in enumerate(list(sG.nodes())):\n",
    "#     loc=nuc[nuc.nuclide == u]\n",
    "#     entry=list(loc.iloc[0])[:5]\n",
    "#     entry.extend([ret[i][0],ret[i][1]])\n",
    "#     data.append(entry)\n",
    "# df=pd.DataFrame(data,columns=['nuclide','n','p','kin','kout','x','y'])\n",
    "# df.to_csv('..output/Coordinates_T{0}_LogR{1}.csv'.format(T9,log_rate_cutoff),index=False)"
   ]
  },
  {
   "cell_type": "code",
   "execution_count": null,
   "metadata": {},
   "outputs": [],
   "source": []
  },
  {
   "cell_type": "code",
   "execution_count": null,
   "metadata": {},
   "outputs": [],
   "source": []
  },
  {
   "cell_type": "code",
   "execution_count": null,
   "metadata": {},
   "outputs": [],
   "source": []
  }
 ],
 "metadata": {
  "kernelspec": {
   "display_name": "Python 3 (ipykernel)",
   "language": "python",
   "name": "python3"
  },
  "language_info": {
   "codemirror_mode": {
    "name": "ipython",
    "version": 3
   },
   "file_extension": ".py",
   "mimetype": "text/x-python",
   "name": "python",
   "nbconvert_exporter": "python",
   "pygments_lexer": "ipython3",
   "version": "3.9.7"
  }
 },
 "nbformat": 4,
 "nbformat_minor": 4
}
